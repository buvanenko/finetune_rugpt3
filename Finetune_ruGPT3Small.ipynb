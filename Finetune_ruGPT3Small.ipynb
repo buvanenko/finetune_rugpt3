{
  "nbformat": 4,
  "nbformat_minor": 0,
  "metadata": {
    "colab": {
      "name": "Finetune ruGPT3Small",
      "private_outputs": true,
      "provenance": [],
      "collapsed_sections": [],
      "toc_visible": true
    },
    "kernelspec": {
      "name": "python3",
      "display_name": "Python 3"
    },
    "accelerator": "GPU"
  },
  "cells": [
    {
      "cell_type": "markdown",
      "metadata": {
        "id": "3RHDK81QqrET"
      },
      "source": [
        "# Finetune ruGPT3Small on essays"
      ]
    },
    {
      "cell_type": "markdown",
      "metadata": {
        "id": "eK10D3MSpYty"
      },
      "source": [
        "## Подготавливаем окружение"
      ]
    },
    {
      "cell_type": "code",
      "metadata": {
        "id": "asqMueYPeIgK"
      },
      "source": [
        "!pip3 install urllib3==1.25.4"
      ],
      "execution_count": null,
      "outputs": []
    },
    {
      "cell_type": "code",
      "metadata": {
        "id": "yPqtVgbkeTx7"
      },
      "source": [
        "!pip3 install transformers==2.8.0"
      ],
      "execution_count": null,
      "outputs": []
    },
    {
      "cell_type": "code",
      "metadata": {
        "id": "mpkjTWefecLc"
      },
      "source": [
        "!wget https://raw.githubusercontent.com/buvanenko/finetune_rugpt3/main/pretrain_transformers.py"
      ],
      "execution_count": null,
      "outputs": []
    },
    {
      "cell_type": "code",
      "metadata": {
        "id": "L7zu3BqpqJQ7"
      },
      "source": [
        "!wget https://raw.githubusercontent.com/buvanenko/finetune_rugpt3/main/generate_transformers.py"
      ],
      "execution_count": null,
      "outputs": []
    },
    {
      "cell_type": "code",
      "metadata": {
        "id": "GtAeHbhbTnzO"
      },
      "source": [
        "%%writefile setup.sh\n",
        "\n",
        "export CUDA_HOME=/usr/local/cuda-10.1\n",
        "git clone https://github.com/NVIDIA/apex\n",
        "pip install -v --no-cache-dir --global-option=\"--cpp_ext\" --global-option=\"--cuda_ext\" ./apex"
      ],
      "execution_count": null,
      "outputs": []
    },
    {
      "cell_type": "code",
      "metadata": {
        "id": "udZ7AiMWTpD9"
      },
      "source": [
        "!sh setup.sh"
      ],
      "execution_count": null,
      "outputs": []
    },
    {
      "cell_type": "markdown",
      "metadata": {
        "id": "DP7YAlDPqknI"
      },
      "source": [
        "## Пихаем данные для настройки\n",
        "для примера остстроим модель на датасете с школьными сочинениями"
      ]
    },
    {
      "cell_type": "code",
      "metadata": {
        "id": "HddOX2tmKOoW"
      },
      "source": [
        "!wget https://raw.githubusercontent.com/buvanenko/finetune_rugpt3/main/essays.txt"
      ],
      "execution_count": null,
      "outputs": []
    },
    {
      "cell_type": "code",
      "metadata": {
        "id": "f5EtK-jerBRv"
      },
      "source": [
        "data_path = \"essays.txt\""
      ],
      "execution_count": null,
      "outputs": []
    },
    {
      "cell_type": "markdown",
      "metadata": {
        "id": "GDYi1TVTrtkO"
      },
      "source": [
        "## Подготавливаем данные для настройки"
      ]
    },
    {
      "cell_type": "code",
      "metadata": {
        "id": "Auc_l3vNnVGf"
      },
      "source": [
        "import numpy as np\r\n",
        "import random\r\n",
        "import nltk\r\n",
        "\r\n",
        "with open(data_path, \"r\", encoding=\"utf-8\") as file:\r\n",
        "    text = file.read()\r\n",
        "\r\n",
        "valid_size = 5\r\n",
        "\r\n",
        "topics = []\r\n",
        "all_essays = []\r\n",
        "for line in text.split(\"</s>\"):\r\n",
        "    if \"Тема:\" in line and \"Сочинение:\" in line:\r\n",
        "        essay_text = line.split(\"Сочинение:\")\r\n",
        "        if len(essay_text) == 2:\r\n",
        "            topic = essay_text[0].replace(\"<s>\", \" \").replace(\"</s>\", \" \").strip()\r\n",
        "            essay_text = essay_text[1].replace(\"<s>\", \" \").replace(\"</s>\", \" \").strip()\r\n",
        "            essay_text = f\"Сочинение: {essay_text}\"\r\n",
        "            essay_res = f\"<s>{topic}\\n{essay_text}</s>\"\r\n",
        "            all_essays.append(essay_res)\r\n",
        "            topics.append(topic)\r\n",
        "\r\n",
        "random.seed(1234)\r\n",
        "np.random.seed(1234)\r\n",
        "\r\n",
        "unique_topics = list(set(topics))\r\n",
        "\r\n",
        "valid_topics = []\r\n",
        "\r\n",
        "for _ in range(valid_size):\r\n",
        "    # Use randint for more speed (on big lists it is faster)\r\n",
        "    idx = np.random.randint(0, len(unique_topics))\r\n",
        "    valid_topics.append(unique_topics[idx])\r\n",
        "\r\n",
        "train = []\r\n",
        "valid = []\r\n",
        "for topic, essay in zip(topics, all_essays):\r\n",
        "    is_train = True\r\n",
        "    for valid_topic in valid_topics:\r\n",
        "        if (\r\n",
        "            nltk.edit_distance(valid_topic, topic[:len(valid_topic)]) < 20 or\r\n",
        "            nltk.edit_distance(valid_topic[:len(topic)], topic) < 20 or\r\n",
        "            nltk.edit_distance(valid_topic[len(topic):], topic) < 20 or\r\n",
        "            nltk.edit_distance(valid_topic, topic[len(valid_topic):]) < 20\r\n",
        "            ):\r\n",
        "            is_train = False\r\n",
        "    if is_train:\r\n",
        "        train.append(essay)\r\n",
        "    else:\r\n",
        "        valid.append(essay)\r\n",
        "\r\n",
        "print(f'{len(valid)}, {len(train)}')\r\n",
        "\r\n",
        "with open(\"train.txt\", \"w\", encoding=\"utf-8\") as file:\r\n",
        "    file.write(\"\\n\".join(train))\r\n",
        "\r\n",
        "with open(\"valid.txt\", \"w\", encoding=\"utf-8\") as file:\r\n",
        "    file.write(\"\\n\".join(valid))"
      ],
      "execution_count": null,
      "outputs": []
    },
    {
      "cell_type": "markdown",
      "metadata": {
        "id": "NitGcEKPsDQE"
      },
      "source": [
        "## Начинаем настраивать модель\n",
        "Этот код скачает и настроит модель. Получившаяся моделька будет сохранена в папке, указанной в аргументе output_dir."
      ]
    },
    {
      "cell_type": "code",
      "metadata": {
        "id": "5vL07XFvsBBU"
      },
      "source": [
        "!python pretrain_transformers.py \\\n",
        "    --output_dir=essays_model \\\n",
        "    --model_type=gpt2 \\\n",
        "    --model_name_or_path=sberbank-ai/rugpt3small_based_on_gpt2 \\\n",
        "    --do_train \\\n",
        "    --train_data_file=train.txt \\\n",
        "    --do_eval \\\n",
        "    --fp16 \\\n",
        "    --eval_data_file=valid.txt \\\n",
        "    --per_gpu_train_batch_size 1 \\\n",
        "    --gradient_accumulation_steps 1 \\\n",
        "    --num_train_epochs 5 \\\n",
        "    --block_size 2048 \\\n",
        "    --overwrite_output_dir"
      ],
      "execution_count": null,
      "outputs": []
    },
    {
      "cell_type": "markdown",
      "metadata": {
        "id": "w2N6ylGPt1F5"
      },
      "source": [
        "## Проверяем!"
      ]
    },
    {
      "cell_type": "code",
      "metadata": {
        "id": "JRlAAsIbsHdf"
      },
      "source": [
        "!python generate_transformers.py \\\n",
        "    --model_type=gpt2 \\\n",
        "    --model_name_or_path=essays_model \\\n",
        "    --k=5 \\\n",
        "    --p=0.95 \\\n",
        "    --length=500"
      ],
      "execution_count": null,
      "outputs": []
    },
    {
      "cell_type": "code",
      "metadata": {
        "id": "-kpMtmoxvQ3a"
      },
      "source": [
        ""
      ],
      "execution_count": null,
      "outputs": []
    }
  ]
}